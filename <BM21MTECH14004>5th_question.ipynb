{
 "cells": [
  {
   "cell_type": "code",
   "execution_count": 1,
   "source": [
    "import pandas as pd\n",
    "import numpy as np\n",
    "from sklearn.metrics import accuracy_score\n"
   ],
   "outputs": [],
   "metadata": {}
  },
  {
   "cell_type": "code",
   "execution_count": 2,
   "source": [
    "X_train=pd.read_csv(\"training_data.csv\",delim_whitespace=True,header=None)\n",
    "y_train = pd.read_csv(\"training_labels.csv\", header=None)\n",
    "validation_set = pd.read_csv(\"validation_data.csv\", delim_whitespace=True, header=None)\n",
    "validation_set_ans = pd.read_csv(\"validation_labels.csv\", header=None)\n"
   ],
   "outputs": [],
   "metadata": {}
  },
  {
   "cell_type": "code",
   "execution_count": 3,
   "source": [
    "def evaluate(model, data, labels):\n",
    "    predictions = model.predict(data)\n",
    "    accuracy = accuracy_score(labels, predictions)\n",
    "    error = 1-accuracy\n",
    "    return error\n"
   ],
   "outputs": [],
   "metadata": {}
  },
  {
   "cell_type": "markdown",
   "source": [
    "PART A\n",
    "linear kernel"
   ],
   "metadata": {}
  },
  {
   "cell_type": "code",
   "execution_count": 4,
   "source": [
    "from sklearn import svm\n",
    "clf = svm.SVC(kernel=\"linear\")\n",
    "clf.fit(X_train, y_train)\n"
   ],
   "outputs": [
    {
     "output_type": "stream",
     "name": "stderr",
     "text": [
      "/Library/Frameworks/Python.framework/Versions/3.9/lib/python3.9/site-packages/sklearn/utils/validation.py:63: DataConversionWarning: A column-vector y was passed when a 1d array was expected. Please change the shape of y to (n_samples, ), for example using ravel().\n",
      "  return f(*args, **kwargs)\n"
     ]
    },
    {
     "output_type": "execute_result",
     "data": {
      "text/plain": [
       "SVC(kernel='linear')"
      ]
     },
     "metadata": {},
     "execution_count": 4
    }
   ],
   "metadata": {}
  },
  {
   "cell_type": "code",
   "execution_count": 5,
   "source": [
    "print(\"linear kernel:\")\n",
    "print(\"training error= \",evaluate(clf,X_train,y_train))\n",
    "print(\"test error= \", evaluate(clf, validation_set, validation_set_ans))\n",
    "print(\"Number of support vectors= \",clf.n_support_)"
   ],
   "outputs": [
    {
     "output_type": "stream",
     "name": "stdout",
     "text": [
      "linear kernel:\n",
      "training error=  0.0\n",
      "test error=  0.02400000000000002\n",
      "Number of support vectors=  [542 542]\n"
     ]
    }
   ],
   "metadata": {}
  },
  {
   "cell_type": "markdown",
   "source": [
    "PART B"
   ],
   "metadata": {}
  },
  {
   "cell_type": "code",
   "execution_count": 6,
   "source": [
    "clf_rbf = svm.SVC(gamma=0.001)\n",
    "clf_rbf.fit(X_train, y_train)\n",
    "predictions = clf_rbf.predict(validation_set)\n",
    "accuracy_score(validation_set_ans, predictions)\n"
   ],
   "outputs": [
    {
     "output_type": "stream",
     "name": "stderr",
     "text": [
      "/Library/Frameworks/Python.framework/Versions/3.9/lib/python3.9/site-packages/sklearn/utils/validation.py:63: DataConversionWarning: A column-vector y was passed when a 1d array was expected. Please change the shape of y to (n_samples, ), for example using ravel().\n",
      "  return f(*args, **kwargs)\n"
     ]
    },
    {
     "output_type": "execute_result",
     "data": {
      "text/plain": [
       "0.5"
      ]
     },
     "metadata": {},
     "execution_count": 6
    }
   ],
   "metadata": {}
  },
  {
   "cell_type": "code",
   "execution_count": 7,
   "source": [
    "print(\"RBF Kernel:\")\n",
    "print(\"training error= \", evaluate(clf_rbf, X_train, y_train))\n",
    "print(\"test error= \", evaluate(clf_rbf, validation_set, validation_set_ans))\n",
    "print(\"Number of support vectors= \", clf_rbf.n_support_)\n"
   ],
   "outputs": [
    {
     "output_type": "stream",
     "name": "stdout",
     "text": [
      "RBF Kernel:\n",
      "training error=  0.0\n",
      "test error=  0.5\n",
      "Number of support vectors=  [3000 3000]\n"
     ]
    }
   ],
   "metadata": {}
  },
  {
   "cell_type": "code",
   "execution_count": 8,
   "source": [
    "clf_poly = svm.SVC(kernel=\"poly\",degree=2,coef0=1)\n",
    "clf_poly.fit(X_train, y_train)\n",
    "predictions = clf_poly.predict(validation_set)\n",
    "accuracy_score(validation_set_ans, predictions)\n"
   ],
   "outputs": [
    {
     "output_type": "stream",
     "name": "stderr",
     "text": [
      "/Library/Frameworks/Python.framework/Versions/3.9/lib/python3.9/site-packages/sklearn/utils/validation.py:63: DataConversionWarning: A column-vector y was passed when a 1d array was expected. Please change the shape of y to (n_samples, ), for example using ravel().\n",
      "  return f(*args, **kwargs)\n"
     ]
    },
    {
     "output_type": "execute_result",
     "data": {
      "text/plain": [
       "0.98"
      ]
     },
     "metadata": {},
     "execution_count": 8
    }
   ],
   "metadata": {}
  },
  {
   "cell_type": "code",
   "execution_count": 9,
   "source": [
    "print(\"Polynomial Kernel:\")\n",
    "print(\"training error= \", evaluate(clf_poly, X_train, y_train))\n",
    "print(\"test error= \", evaluate(clf_poly, validation_set, validation_set_ans))\n",
    "print(\"Number of support vectors= \", clf_poly.n_support_)\n"
   ],
   "outputs": [
    {
     "output_type": "stream",
     "name": "stdout",
     "text": [
      "Polynomial Kernel:\n",
      "training error=  0.0004999999999999449\n",
      "test error=  0.020000000000000018\n",
      "Number of support vectors=  [641 691]\n"
     ]
    }
   ],
   "metadata": {}
  }
 ],
 "metadata": {
  "interpreter": {
   "hash": "aee8b7b246df8f9039afb4144a1f6fd8d2ca17a180786b69acc140d282b71a49"
  },
  "kernelspec": {
   "name": "python3",
   "display_name": "Python 3.9.6 64-bit"
  },
  "language_info": {
   "codemirror_mode": {
    "name": "ipython",
    "version": 3
   },
   "file_extension": ".py",
   "mimetype": "text/x-python",
   "name": "python",
   "nbconvert_exporter": "python",
   "pygments_lexer": "ipython3",
   "version": "3.9.6"
  }
 },
 "nbformat": 4,
 "nbformat_minor": 2
}