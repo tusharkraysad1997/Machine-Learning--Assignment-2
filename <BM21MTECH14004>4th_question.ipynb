{
 "cells": [
  {
   "cell_type": "code",
   "execution_count": 1,
   "metadata": {},
   "outputs": [],
   "source": [
    "import pandas as pd\n",
    "import numpy as np\n",
    "from sklearn.metrics import accuracy_score\n",
    "from sklearn import svm\n",
    "\n",
    "df = pd.read_csv(\"train_features.csv\", delim_whitespace=True, index_col=False)\n",
    "df.columns = [\"label\", \"feature1\", \"feature2\"]\n",
    "df = df[(df.label == 1.0) | (df.label == 5.0)]\n",
    "df['label'] = df[\"label\"].replace([1.0, 5.0], [1, -1])\n",
    "df.to_csv(\"processed_train_data.csv\")\n"
   ]
  },
  {
   "cell_type": "code",
   "execution_count": 2,
   "metadata": {},
   "outputs": [],
   "source": [
    "test_df = pd.read_csv(\"test_features.csv\", delim_whitespace=True, index_col=False)\n",
    "test_df.columns = [\"label\", \"feature1\", \"feature2\"]\n",
    "test_df = test_df[(test_df.label == 1.0) | (test_df.label == 5.0)]\n",
    "test_df['label'] = test_df[\"label\"].replace([1.0, 5.0], [1, -1])\n",
    "test_df.to_csv(\"processed_test_data.csv\")\n"
   ]
  },
  {
   "cell_type": "code",
   "execution_count": 3,
   "metadata": {},
   "outputs": [],
   "source": [
    "X_train = df.drop([\"label\"], axis=1)\n",
    "y_train = df[\"label\"]\n",
    "X_test = test_df.drop([\"label\"], axis=1)\n",
    "y_test = test_df[\"label\"]\n"
   ]
  },
  {
   "cell_type": "markdown",
   "metadata": {},
   "source": [
    "PART A"
   ]
  },
  {
   "cell_type": "code",
   "execution_count": 4,
   "metadata": {},
   "outputs": [
    {
     "name": "stdout",
     "output_type": "stream",
     "text": [
      "Accuracy=  0.9787735849056604\n",
      "Number of Support vectors=  [14 14]\n"
     ]
    }
   ],
   "source": [
    "clf = svm.SVC(kernel='linear')\n",
    "clf.fit(X_train, y_train)\n",
    "predictions = clf.predict(X_test)\n",
    "acc=accuracy_score(y_test, predictions)\n",
    "\n",
    "print(\"Accuracy= \",acc)\n",
    "print(\"Number of Support vectors= \", clf.n_support_)\n"
   ]
  },
  {
   "cell_type": "markdown",
   "metadata": {},
   "source": [
    "PART B"
   ]
  },
  {
   "cell_type": "code",
   "execution_count": 5,
   "metadata": {},
   "outputs": [],
   "source": [
    "def train_and_evaluate_part_B(n):\n",
    "    X_t = X_train.head(n)\n",
    "    y_t = y_train.head(n)\n",
    "    clf = svm.SVC(kernel='linear')\n",
    "    clf.fit(X_t, y_t)\n",
    "    no_of_sv = clf.n_support_\n",
    "    predictions = clf.predict(X_test)\n",
    "    accuracy = accuracy_score(y_test, predictions)\n",
    "    print(\"For dataset of \",n,\" samples:\")\n",
    "    print(\"Accuracy= \", accuracy)\n",
    "    print(\"Number of Support vectors= \", clf.n_support_)\n"
   ]
  },
  {
   "cell_type": "code",
   "execution_count": 6,
   "metadata": {},
   "outputs": [
    {
     "name": "stdout",
     "output_type": "stream",
     "text": [
      "For dataset of  800  samples:\n",
      "Accuracy=  0.9811320754716981\n",
      "Number of Support vectors=  [7 7]\n",
      "For dataset of  200  samples:\n",
      "Accuracy=  0.9811320754716981\n",
      "Number of Support vectors=  [4 4]\n",
      "For dataset of  100  samples:\n",
      "Accuracy=  0.9811320754716981\n",
      "Number of Support vectors=  [2 2]\n",
      "For dataset of  50  samples:\n",
      "Accuracy=  0.9811320754716981\n",
      "Number of Support vectors=  [1 1]\n"
     ]
    }
   ],
   "source": [
    "number_of_samples = [800, 200, 100, 50]\n",
    "for number in number_of_samples:\n",
    "    train_and_evaluate_part_B(number)\n"
   ]
  },
  {
   "cell_type": "markdown",
   "metadata": {},
   "source": [
    "PART C"
   ]
  },
  {
   "cell_type": "code",
   "execution_count": 7,
   "metadata": {},
   "outputs": [],
   "source": [
    "def train_and_evaluate_part_C(d, c, data, labels):\n",
    "    clf = svm.SVC(kernel='poly', coef0=1, degree=d, C=c)\n",
    "    clf.fit(X_train, y_train)\n",
    "    no_of_sv = clf.n_support_\n",
    "    predictions = clf.predict(data)\n",
    "    accuracy = accuracy_score(labels, predictions)\n",
    "    error = 1-accuracy\n",
    "    return error,no_of_sv\n"
   ]
  },
  {
   "cell_type": "code",
   "execution_count": 8,
   "metadata": {},
   "outputs": [],
   "source": [
    "# def evaluate(model, data, labels):\n",
    "#     predictions = model.predict(data)\n",
    "#     accuracy = accuracy_score(labels, predictions)\n",
    "    \n"
   ]
  },
  {
   "cell_type": "markdown",
   "metadata": {},
   "source": [
    "PART C.1"
   ]
  },
  {
   "cell_type": "code",
   "execution_count": 9,
   "metadata": {},
   "outputs": [
    {
     "name": "stdout",
     "output_type": "stream",
     "text": [
      "0.25368353619474693 0.018577834721332454\n"
     ]
    }
   ],
   "source": [
    "error5,no_of_sv5=train_and_evaluate_part_C(5, 0.0001, X_train, y_train)\n",
    "error2,no_of_sv2=train_and_evaluate_part_C(2, 0.0001, X_train, y_train)\n",
    "print(error2,error5)"
   ]
  },
  {
   "cell_type": "markdown",
   "metadata": {},
   "source": [
    "training error is higher for Q=2\n",
    "so given statement is False"
   ]
  },
  {
   "cell_type": "markdown",
   "metadata": {},
   "source": [
    "PART C.2"
   ]
  },
  {
   "cell_type": "code",
   "execution_count": 10,
   "metadata": {},
   "outputs": [
    {
     "name": "stdout",
     "output_type": "stream",
     "text": [
      "[228 228] [36 36]\n"
     ]
    }
   ],
   "source": [
    "error5, no_of_sv5 = train_and_evaluate_part_C(5, 0.001, X_train, y_train)\n",
    "error2, no_of_sv2 = train_and_evaluate_part_C(2, 0.001, X_train, y_train)\n",
    "print(no_of_sv2, no_of_sv5)\n"
   ]
  },
  {
   "cell_type": "markdown",
   "metadata": {},
   "source": [
    "number of support vectors is higher for Q=2\n",
    "so given statement is True"
   ]
  },
  {
   "cell_type": "markdown",
   "metadata": {},
   "source": [
    "PART C.3"
   ]
  },
  {
   "cell_type": "code",
   "execution_count": 11,
   "metadata": {},
   "outputs": [
    {
     "name": "stdout",
     "output_type": "stream",
     "text": [
      "0.005124919923126248 0.004484304932735439\n"
     ]
    }
   ],
   "source": [
    "error5, no_of_sv5 = train_and_evaluate_part_C(5, 0.01, X_train, y_train)\n",
    "error2, no_of_sv2 = train_and_evaluate_part_C(2, 0.01, X_train, y_train)\n",
    "print(error2, error5)\n"
   ]
  },
  {
   "cell_type": "markdown",
   "metadata": {},
   "source": [
    "training error is higher for Q=2\n",
    "so given statement is False"
   ]
  },
  {
   "cell_type": "markdown",
   "metadata": {},
   "source": [
    "PART C.4"
   ]
  },
  {
   "cell_type": "code",
   "execution_count": 12,
   "metadata": {},
   "outputs": [
    {
     "name": "stdout",
     "output_type": "stream",
     "text": [
      "0.021226415094339646 0.02358490566037741\n"
     ]
    }
   ],
   "source": [
    "error5, no_of_sv5 = train_and_evaluate_part_C(5, 1, X_test, y_test)\n",
    "error2, no_of_sv2 = train_and_evaluate_part_C(2, 1, X_test, y_test)\n",
    "print(error2, error5)\n"
   ]
  },
  {
   "cell_type": "markdown",
   "metadata": {},
   "source": [
    "test error is lower at Q=2\n",
    "so the given statement is False"
   ]
  },
  {
   "cell_type": "markdown",
   "metadata": {},
   "source": [
    "PART D"
   ]
  },
  {
   "cell_type": "code",
   "execution_count": 13,
   "metadata": {},
   "outputs": [],
   "source": [
    "def train_and_evaluate_part_D(c):\n",
    "    clf = svm.SVC(kernel='rbf',  C=c)\n",
    "    clf.fit(X_train, y_train)\n",
    "    predictions = clf.predict(X_train)\n",
    "    train_accuracy = accuracy_score(y_train, predictions)\n",
    "    train_error=1-train_accuracy\n",
    "    predictions = clf.predict(X_test)\n",
    "    test_accuracy = accuracy_score(y_test, predictions)\n",
    "    test_error=1-test_accuracy\n",
    "    return train_error,test_error\n"
   ]
  },
  {
   "cell_type": "code",
   "execution_count": 14,
   "metadata": {},
   "outputs": [
    {
     "name": "stdout",
     "output_type": "stream",
     "text": [
      "For C=0.01:\n",
      "training error - 0.005124919923126248 , test error - 0.01650943396226412\n",
      "For C=1:\n",
      "training error - 0.004484304932735439 , test error - 0.021226415094339646\n",
      "For C=100:\n",
      "training error - 0.0032030749519538215 , test error - 0.018867924528301883\n",
      "For C=10000:\n",
      "training error - 0.002562459961563124 , test error - 0.018867924528301883\n",
      "For C=1000000:\n",
      "training error - 0.002562459961563124 , test error - 0.02358490566037741\n"
     ]
    }
   ],
   "source": [
    "print(\"For C=0.01:\")\n",
    "a, b = train_and_evaluate_part_D(0.01)\n",
    "print(\"training error - {} , test error - {}\".format(a,b))\n",
    "print(\"For C=1:\")\n",
    "a, b = train_and_evaluate_part_D(1)\n",
    "print(\"training error - {} , test error - {}\".format(a,b))\n",
    "print(\"For C=100:\")\n",
    "a, b = train_and_evaluate_part_D(100)\n",
    "print(\"training error - {} , test error - {}\".format(a,b))\n",
    "print(\"For C=10000:\")\n",
    "a, b = train_and_evaluate_part_D(10000)\n",
    "print(\"training error - {} , test error - {}\".format(a,b))\n",
    "print(\"For C=1000000:\")\n",
    "a, b = train_and_evaluate_part_D(1000000)\n",
    "print(\"training error - {} , test error - {}\".format(a, b))\n",
    "\n",
    "\n"
   ]
  },
  {
   "cell_type": "markdown",
   "metadata": {},
   "source": [
    "Test error is least at C=0.01\n",
    "Training error is least at C=10000 and C=1000000"
   ]
  },
  {
   "cell_type": "code",
   "execution_count": null,
   "metadata": {},
   "outputs": [],
   "source": []
  }
 ],
 "metadata": {
  "interpreter": {
   "hash": "aee8b7b246df8f9039afb4144a1f6fd8d2ca17a180786b69acc140d282b71a49"
  },
  "kernelspec": {
   "display_name": "Python 3",
   "language": "python",
   "name": "python3"
  },
  "language_info": {
   "codemirror_mode": {
    "name": "ipython",
    "version": 3
   },
   "file_extension": ".py",
   "mimetype": "text/x-python",
   "name": "python",
   "nbconvert_exporter": "python",
   "pygments_lexer": "ipython3",
   "version": "3.8.8"
  }
 },
 "nbformat": 4,
 "nbformat_minor": 2
}
