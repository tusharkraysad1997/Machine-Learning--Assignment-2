{
 "cells": [
  {
   "cell_type": "code",
   "execution_count": 7,
   "metadata": {},
   "outputs": [],
   "source": [
    "import pandas as pd\n",
    "import numpy as np\n",
    "from sklearn.metrics import accuracy_score\n"
   ]
  },
  {
   "cell_type": "code",
   "execution_count": 3,
   "metadata": {},
   "outputs": [],
   "source": [
    "X_train=pd.read_csv(\"training_data.csv\",delim_whitespace=True,header=None)\n",
    "y_train = pd.read_csv(\"training_labels.csv\", header=None)\n",
    "validation_set = pd.read_csv(\"validation_data.csv\", delim_whitespace=True, header=None)\n",
    "validation_set_ans = pd.read_csv(\"validation_labels.csv\", header=None)\n"
   ]
  },
  {
   "cell_type": "code",
   "execution_count": 4,
   "metadata": {},
   "outputs": [],
   "source": [
    "def evaluate(model, data, labels):\n",
    "    predictions = model.predict(data)\n",
    "    accuracy = accuracy_score(labels, predictions)\n",
    "    error = 1-accuracy\n",
    "    return error\n"
   ]
  },
  {
   "cell_type": "markdown",
   "metadata": {},
   "source": [
    "PART A\n",
    "linear kernel"
   ]
  },
  {
   "cell_type": "code",
   "execution_count": 5,
   "metadata": {},
   "outputs": [
    {
     "name": "stderr",
     "output_type": "stream",
     "text": [
      "/Library/Frameworks/Python.framework/Versions/3.9/lib/python3.9/site-packages/sklearn/utils/validation.py:63: DataConversionWarning: A column-vector y was passed when a 1d array was expected. Please change the shape of y to (n_samples, ), for example using ravel().\n",
      "  return f(*args, **kwargs)\n"
     ]
    },
    {
     "data": {
      "text/plain": [
       "SVC(kernel='linear')"
      ]
     },
     "execution_count": 5,
     "metadata": {},
     "output_type": "execute_result"
    }
   ],
   "source": [
    "from sklearn import svm\n",
    "clf = svm.SVC(kernel=\"linear\")\n",
    "clf.fit(X_train, y_train)\n"
   ]
  },
  {
   "cell_type": "code",
   "execution_count": 8,
   "metadata": {},
   "outputs": [
    {
     "name": "stdout",
     "output_type": "stream",
     "text": [
      "linear kernel:\n",
      "training error=  0.0\n",
      "test error=  0.02400000000000002\n",
      "Number of support vectors=  [542 542]\n"
     ]
    }
   ],
   "source": [
    "print(\"linear kernel:\")\n",
    "print(\"training error= \",evaluate(clf,X_train,y_train))\n",
    "print(\"test error= \", evaluate(clf, validation_set, validation_set_ans))\n",
    "print(\"Number of support vectors= \",clf.n_support_)"
   ]
  },
  {
   "cell_type": "markdown",
   "metadata": {},
   "source": [
    "PART B"
   ]
  },
  {
   "cell_type": "code",
   "execution_count": 9,
   "metadata": {},
   "outputs": [
    {
     "name": "stderr",
     "output_type": "stream",
     "text": [
      "/Library/Frameworks/Python.framework/Versions/3.9/lib/python3.9/site-packages/sklearn/utils/validation.py:63: DataConversionWarning: A column-vector y was passed when a 1d array was expected. Please change the shape of y to (n_samples, ), for example using ravel().\n",
      "  return f(*args, **kwargs)\n"
     ]
    },
    {
     "data": {
      "text/plain": [
       "0.5"
      ]
     },
     "execution_count": 9,
     "metadata": {},
     "output_type": "execute_result"
    }
   ],
   "source": [
    "clf_rbf = svm.SVC(gamma=0.001)\n",
    "clf_rbf.fit(X_train, y_train)\n",
    "predictions = clf_rbf.predict(validation_set)\n",
    "accuracy_score(validation_set_ans, predictions)\n"
   ]
  },
  {
   "cell_type": "code",
   "execution_count": 10,
   "metadata": {},
   "outputs": [
    {
     "name": "stdout",
     "output_type": "stream",
     "text": [
      "RBF Kernel:\n",
      "training error=  0.0\n",
      "test error=  0.5\n",
      "Number of support vectors=  [3000 3000]\n"
     ]
    }
   ],
   "source": [
    "print(\"RBF Kernel:\")\n",
    "print(\"training error= \", evaluate(clf_rbf, X_train, y_train))\n",
    "print(\"test error= \", evaluate(clf_rbf, validation_set, validation_set_ans))\n",
    "print(\"Number of support vectors= \", clf_rbf.n_support_)\n"
   ]
  },
  {
   "cell_type": "code",
   "execution_count": 11,
   "metadata": {},
   "outputs": [
    {
     "name": "stderr",
     "output_type": "stream",
     "text": [
      "/Library/Frameworks/Python.framework/Versions/3.9/lib/python3.9/site-packages/sklearn/utils/validation.py:63: DataConversionWarning: A column-vector y was passed when a 1d array was expected. Please change the shape of y to (n_samples, ), for example using ravel().\n",
      "  return f(*args, **kwargs)\n"
     ]
    },
    {
     "data": {
      "text/plain": [
       "0.98"
      ]
     },
     "execution_count": 11,
     "metadata": {},
     "output_type": "execute_result"
    }
   ],
   "source": [
    "clf_poly = svm.SVC(kernel=\"poly\",degree=2,coef0=1)\n",
    "clf_poly.fit(X_train, y_train)\n",
    "predictions = clf_poly.predict(validation_set)\n",
    "accuracy_score(validation_set_ans, predictions)\n"
   ]
  },
  {
   "cell_type": "code",
   "execution_count": 12,
   "metadata": {},
   "outputs": [
    {
     "name": "stdout",
     "output_type": "stream",
     "text": [
      "Polynomial Kernel:\n",
      "training error=  0.0004999999999999449\n",
      "test error=  0.020000000000000018\n",
      "Number of support vectors=  [641 691]\n"
     ]
    }
   ],
   "source": [
    "print(\"Polynomial Kernel:\")\n",
    "print(\"training error= \", evaluate(clf_poly, X_train, y_train))\n",
    "print(\"test error= \", evaluate(clf_poly, validation_set, validation_set_ans))\n",
    "print(\"Number of support vectors= \", clf_poly.n_support_)\n"
   ]
  }
 ],
 "metadata": {
  "interpreter": {
   "hash": "aee8b7b246df8f9039afb4144a1f6fd8d2ca17a180786b69acc140d282b71a49"
  },
  "kernelspec": {
   "display_name": "Python 3",
   "language": "python",
   "name": "python3"
  },
  "language_info": {
   "codemirror_mode": {
    "name": "ipython",
    "version": 3
   },
   "file_extension": ".py",
   "mimetype": "text/x-python",
   "name": "python",
   "nbconvert_exporter": "python",
   "pygments_lexer": "ipython3",
   "version": "3.8.8"
  }
 },
 "nbformat": 4,
 "nbformat_minor": 2
}
